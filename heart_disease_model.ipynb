{
 "cells": [
  {
   "cell_type": "code",
   "execution_count": null,
   "id": "2939a3db-9673-4601-93ff-d435f2f51ebf",
   "metadata": {},
   "outputs": [],
   "source": []
  }
 ],
 "metadata": {
  "kernelspec": {
   "display_name": "",
   "name": ""
  },
  "language_info": {
   "name": ""
  }
 },
 "nbformat": 4,
 "nbformat_minor": 5
}
